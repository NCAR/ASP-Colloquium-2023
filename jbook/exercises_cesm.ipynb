{
 "cells": [
  {
   "cell_type": "markdown",
   "id": "f60a4e2f-3ca6-4196-9105-a3b6d6d8c0bf",
   "metadata": {},
   "source": [
    "## [Community Earth System Model](https://www.cesm.ucar.edu/)"
   ]
  },
  {
   "cell_type": "markdown",
   "id": "e6ed32ea-ea44-4e69-a5b2-f0370450c4ef",
   "metadata": {
    "tags": []
   },
   "source": [
    "The aim of this notebook is guide the creation, simulation and analyisis of CESM global, multi-annual simulations.\n",
    "\n",
    "\n",
    "\n",
    "<h2>With these exercises we hope for you to achieve</h2>"
   ]
  },
  {
   "cell_type": "markdown",
   "id": "6e6c3617-19e0-4c80-913e-d93a99b5d9b8",
   "metadata": {
    "tags": []
   },
   "source": [
    "```{note}\n",
    "To the greatest extent possible we will follow the [CESM tutorial workflows](https://github.com/NCAR/CESM-Tutorial) for setting up, submitting, running and processing output from simulations.\n",
    "```"
   ]
  },
  {
   "cell_type": "markdown",
   "id": "56ed605e-c3f2-4488-93ce-9fcc09cce636",
   "metadata": {
    "tags": []
   },
   "source": [
    "### Description of Model Cases and Configurations\n",
    "\n",
    "The experiments we will perform with CESM will comprise an atmosphere model, land model and simplified (thermodynamic-only) sea-ice model over a global domain. An ocean model will not be used, instead being replace by fix or prescribed values of Sea Surface Temperature (SSTs). We will use a relatively course horizontal resolution, nomilly 2 degress in both latitude and longitude. "
   ]
  },
  {
   "cell_type": "markdown",
   "id": "d937c1e6-6dcd-496a-9ac0-c78839b797e1",
   "metadata": {
    "tags": []
   },
   "source": [
    "### Test run of CESM cases\n",
    "\n",
    "Please follow the `basic` test cases from the CESM tutorial [here](https://ncar.github.io/CESM-Tutorial/notebooks/basics/exercises/first_B1850.html). These are a little different from what we wish to run: namely we will run F2000climo compsets: Atmopshere with fixed SST as described above.\n",
    "\n",
    "\n"
   ]
  }
 ],
 "metadata": {
  "kernelspec": {
   "display_name": "jbooks",
   "language": "python",
   "name": "jbooks"
  },
  "language_info": {
   "codemirror_mode": {
    "name": "ipython",
    "version": 3
   },
   "file_extension": ".py",
   "mimetype": "text/x-python",
   "name": "python",
   "nbconvert_exporter": "python",
   "pygments_lexer": "ipython3",
   "version": "3.9.16"
  }
 },
 "nbformat": 4,
 "nbformat_minor": 5
}
