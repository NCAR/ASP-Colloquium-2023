{
 "cells": [
  {
   "cell_type": "markdown",
   "id": "b05520fe-c0da-41fb-a96f-7c9183c86fc0",
   "metadata": {
    "tags": []
   },
   "source": [
    "# Exercises\n",
    "There are number of possibilities for investigating boundary layers in the colloquium through practical sessions that will happen most afternoons. \n",
    "\n",
    "\n",
    "## Computing Environments\n",
    "\n",
    "\n",
    "\n",
    "\n",
    "## Community Earth System Model (CESM)\n",
    "Another option is the the Community Earth System Model (CESM). CESM is a global climate model supported at NCAR and has multiple climate applications including common CMIP type applications as well as as earth system prediction. For the colloquium we will perform experiements in a simplified AMIP configuration that prescribe Sea Surface Temperatures and this focus primarily on the Community Atmosphere Model (CAM). In terms of representing boundary layer processes CAM uses the high order Cloud Layers Unified By Binormals (CLUBB) parameterization scheme. It is a somewhat complex scheme, but has numerous degrees of freedom that enable a wide variety of sensitivity experiments to be performed. If you are unfamiliar with CESM and are interested in using this model during the colloquium, please familiarize yourself as much as you can with the model here. We will go over the fundamentals of running the model during the coloquium, but the CESM Tutotial webages will give you a more comprehensive workflows that the model uses. And finally if you are interested in an initial understanding of CLUBB\n",
    "\n",
    "\n",
    "## Weather Research and Forecasting (WRF) model\n",
    "For a more weather event based study exercise using the Weather Research and Forecasting Model (WRF) will be available. WRF is a forecast capable model that can simulate past weather events over a limited area of the globe. Unlike CESM multiple boudary layer parameterization options are available which allows you to perform sensitivity experiments to investigate the assumptions use in different options and how they impact specific weather events. We will go over the fundamentals of running WRF in the collqouium, but feel free to familiarize yourself with methods for running WRF in advance.\n",
    "\n",
    "\n",
    "## Chemistry Land-surface Atmosphere Soil Slab model (CLASS)\n",
    "For a simpler model that has a focus more on chemical processes we will be using the Chemistry Land-surface Atmosphere Soil Slab model (CLASS). CLASS is a model that can be downloaded and run easily on a laptop. The instructions for downloading onto a windows or mac system are here. A series of comprehensive introductory videos can be viewed here. Try to download and have a play with the easy to use interface.\n",
    "\n",
    "\n",
    "\n",
    "## Observations\n",
    "\n",
    "\n"
   ]
  },
  {
   "cell_type": "code",
   "execution_count": null,
   "id": "946c685f-4d2e-4d9a-b390-f8c61587c0d4",
   "metadata": {},
   "outputs": [],
   "source": []
  }
 ],
 "metadata": {
  "kernelspec": {
   "display_name": "jbooks",
   "language": "python",
   "name": "jbooks"
  },
  "language_info": {
   "codemirror_mode": {
    "name": "ipython",
    "version": 3
   },
   "file_extension": ".py",
   "mimetype": "text/x-python",
   "name": "python",
   "nbconvert_exporter": "python",
   "pygments_lexer": "ipython3",
   "version": "3.9.16"
  }
 },
 "nbformat": 4,
 "nbformat_minor": 5
}
