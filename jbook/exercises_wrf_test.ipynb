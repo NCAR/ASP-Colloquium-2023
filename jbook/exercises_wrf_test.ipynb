{
 "cells": [
  {
   "cell_type": "code",
   "execution_count": 1,
   "id": "44cf2251-7ffc-4d8e-b413-024efc0c956e",
   "metadata": {
    "tags": []
   },
   "outputs": [],
   "source": [
    "## WRF Test Exercise"
   ]
  },
  {
   "cell_type": "code",
   "execution_count": null,
   "id": "bb834c46-6e41-4b4a-a249-947bb05bcb8f",
   "metadata": {},
   "outputs": [],
   "source": [
    "### Set-up case Study: Model Domain (1)\n"
   ]
  },
  {
   "cell_type": "markdown",
   "id": "ee6248bd-55e3-4881-b28f-4222c4519f29",
   "metadata": {},
   "source": [
    "Main WRF page\n",
    "\thttp://www2.mmm.ucar.edu/wrf/OnLineTutorial/CASES/JAN00/index.html\n",
    "\n",
    "\n",
    "In ~/WRF/WPS directory. Edit namelist.wps \n",
    "\temacs namelist.wps \n",
    "\n",
    "Change to following (mostly getting rid of 2nd number and a ,)\n",
    "```\n",
    "\tmax_dom = 1\n",
    "\tparent_id = 1, \n",
    "    parent_grid_ratio = 1, \n",
    "    i_parent_start = 1, \n",
    "    j_parent_start = 1, \n",
    "    e_we = 74, \n",
    "    e_sn = 61, \n",
    "    geog_data_res = 'default',\n",
    "```\n",
    "\n",
    "Explanations of all variables are here\n",
    "\thttp://www2.mmm.ucar.edu/wrf/users/docs/user_guide_V3/users_guide_chap3.htm\n"
   ]
  }
 ],
 "metadata": {
  "kernelspec": {
   "display_name": "jbooks",
   "language": "python",
   "name": "jbooks"
  },
  "language_info": {
   "codemirror_mode": {
    "name": "ipython",
    "version": 3
   },
   "file_extension": ".py",
   "mimetype": "text/x-python",
   "name": "python",
   "nbconvert_exporter": "python",
   "pygments_lexer": "ipython3",
   "version": "3.9.16"
  }
 },
 "nbformat": 4,
 "nbformat_minor": 5
}
