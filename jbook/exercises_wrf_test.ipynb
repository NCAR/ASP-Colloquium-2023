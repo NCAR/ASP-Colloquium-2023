{
 "cells": [
  {
   "cell_type": "markdown",
   "id": "16cdd0cd-1115-4302-a77a-fc8bd1634d49",
   "metadata": {
    "tags": []
   },
   "source": [
    "## WRF Test Case Study: [Major Snowstorm December 16-17, 2020](https://www.weather.gov/aly/Snow17Dec20)"
   ]
  },
  {
   "cell_type": "markdown",
   "id": "e9b4d097-4935-4e2e-a567-f32cae9b881e",
   "metadata": {},
   "source": [
    "###  WPS: Model Domain Initialize\n",
    "Detailed workflow [here](https://www2.mmm.ucar.edu/wrf/users/docs/user_guide_v4/v4.4/users_guide_chap3.html) \\\n",
    "Summary workflow [here](https://www2.mmm.ucar.edu/wrf/OnLineTutorial/compilation_tutorial.php)\t"
   ]
  },
  {
   "cell_type": "markdown",
   "id": "f1899712-c2fb-47cb-8443-3b895f34fc3c",
   "metadata": {
    "tags": []
   },
   "source": [
    "1. Generate grid information\n",
    "\n",
    "```{note}\n",
    "Everytime `edit` is used in a command it implies you will use your chosen editing method. This could be via 'jupyterhub or terminal-based editor such as `emacs`\n",
    "```\n",
    "\n",
    "In WPS directory. Edit namelist.wps \n",
    "```\n",
    "cd /glade/work/$USER/ASP2023/WPS\n",
    "edit namelist.wps \n",
    "```\n",
    "\n",
    "Change the following lines only to the values shown (mostly getting rid of 2nd number and a `,` at end of each line).\n",
    "This locates the domain over the -79W,41E. Approximately the center of action for the storm.\n",
    "\n",
    "```\n",
    "&share\n",
    " wrf_core = 'ARW',\n",
    " max_dom = 1,\n",
    " start_date = '2020-12-15_00:00:00',\n",
    " end_date   = '2020-12-17_18:00:00',\n",
    " interval_seconds = 10800\n",
    "/\n",
    "\n",
    "&geogrid\n",
    " parent_id         =   1,   \n",
    " parent_grid_ratio =   1,   \n",
    " i_parent_start    =   1,  \n",
    " j_parent_start    =   1, \n",
    " e_we              =  100,\n",
    " e_sn              =  80, \n",
    " geog_data_res = 'default',\n",
    " dx = 15000,\n",
    " dy = 15000,\n",
    " map_proj = 'lambert',\n",
    " ref_lat   =  41.00,\n",
    " ref_lon   = -76.00,\n",
    " truelat1  =  30.0,\n",
    " truelat2  =  60.0,\n",
    " stand_lon = -79.0,\n",
    " geog_data_path = '/glade/work/wrfhelp/WPS_GEOG/'\n",
    "/\n",
    "```\n",
    "\n",
    "Plot domain grid (requires a simple [ncl](https://www.ncl.ucar.edu) command and a module load if not currently installed))\n",
    "\n",
    "```\n",
    "module load ncl\n",
    "ncl < util/plotgrids_new.ncl\n",
    "```\n",
    "\n",
    "View created image file `wps_show_dom.png` in jupyterhub \n",
    "\n",
    "Generate surface data for this domain (takes a few minutes)\n",
    "```\n",
    "./geogrid.exe\t\n",
    "```\n",
    "Successful if last line on screen is\n",
    "```\n",
    "!  Successful completion of geogrid.        !\n",
    "```\n",
    "\n",
    "\n",
    "\n",
    "\n",
    "\n",
    "\n"
   ]
  },
  {
   "cell_type": "markdown",
   "id": "8c38b34a-0f68-4e9d-9a2a-743317ff9911",
   "metadata": {},
   "source": [
    "2. Check generated grid data\n",
    "Data should be in `geo_em.d01.nc` (check it exists)\n",
    "Browse data (should for the most part be obviously North East USA)  \n",
    "```\n",
    "ncview geo_em.d01.nc\n",
    "```\n",
    "Variable descriptions very limited. Try ncdump to look at the descriptions for each variable.\n",
    "```\n",
    "ncdump -h geo_em.d01.nc | less\n",
    "```\n",
    "\n",
    "\n"
   ]
  },
  {
   "cell_type": "markdown",
   "id": "7d5223ee-6c85-448e-85c7-f3483375ad4c",
   "metadata": {},
   "source": [
    "3. Grab domain datasets for this case study (Run WPS)\n",
    "\n",
    "Raw grib files (GFS) used to initialize WRF forecasts can be found [here](https://rda.ucar.edu/datasets/ds084.1/). If a different time period is needed then additional data has to be processed. \n",
    "```{note} Data needed to run this case study can be found here:\n",
    "    `/glade/scratch/rneale/GFS/'\n",
    "```\n",
    "\n",
    "With the changes to `namelist.wps` run WPS to set up processing of meteorology fields for initial and boundary forcing\n",
    "```\n",
    "cd /glade/work/$USER/ASP2023/WPS\n",
    "./link_grib.csh /glade/scratch/rneale/GFS/asp1/\n",
    "```\n",
    "Then link to the correct Vtable (GFS, for this case):\n",
    "```\n",
    "ln -sf ungrib/Variable_Tables/Vtable.GFS Vtable\n",
    "```\n",
    "\n",
    "Then run the `ungrib` executable. Ungrib translates the raw GRIB files from GFS so tha `metgrid` can perform required interpolation to the model domain (takes a few minutes)\n",
    "```{warning} \n",
    "Using `bash` shell here may lead to problems. Try switching to `csh` if that's the case.\n",
    "```\n",
    "```\n",
    "./ungrib.exe\n",
    "```\n",
    "The extensive output from running this command details the available data variables and levels used for interpolation.\n",
    "Look for:\n",
    "```\n",
    "!  Successful completion of ungrib.   !\n",
    "```\n",
    "`Ugrib` produces a number of local files e.g. `FILE:2020-12-15_00` which are prestaged for WRF to be run.\n",
    "\n",
    "Finally for data preparation for WRF is interpolation performed in `metgrid` (takes about a minute).\n",
    "```\n",
    "./metgrid.exe >& log.metgrid\n",
    "```\n",
    "\n"
   ]
  },
  {
   "cell_type": "markdown",
   "id": "c7d454d0-19ad-4ad0-a3aa-840520e764bc",
   "metadata": {},
   "source": [
    "4. Running the model\n",
    "\n",
    "Change to WRF directory from WPS directory\n",
    "```\n",
    "cd ../WRF\n",
    "```\n",
    "Let’s run the case here\n",
    "```\n",
    "cd run (we can also run it here: test/em_real)\n",
    "```\n",
    "And similar to linking the files we generated with WPS do the following\n",
    "```\n",
    "ln -sf ../../WPS/met_em.d01.2020-12* .\n",
    "```\n",
    "Look over namelist, make sure it reflects the period of the\n",
    "```\t\n",
    "emacs namelist.input \n",
    "```\n",
    "We are only using the first column of values as we only have a single domain and no nesting\n",
    "Extend end date of forecast out to **Jan 26 00Z**.\n",
    "And change the gravity wave drag option to gwd_opt=0 instead\t\n",
    "\n",
    "In preparation for sensitivity runs check out descriptions of namelist variables\n",
    "```\n",
    "more README.namelist\n",
    "```\n"
   ]
  },
  {
   "cell_type": "markdown",
   "id": "523f6470-0da9-4b0b-b19b-9456f7f3e61e",
   "metadata": {},
   "source": [
    "### Sensitivity Experiments\n"
   ]
  }
 ],
 "metadata": {
  "kernelspec": {
   "display_name": "jbooks",
   "language": "python",
   "name": "jbooks"
  },
  "language_info": {
   "codemirror_mode": {
    "name": "ipython",
    "version": 3
   },
   "file_extension": ".py",
   "mimetype": "text/x-python",
   "name": "python",
   "nbconvert_exporter": "python",
   "pygments_lexer": "ipython3",
   "version": "3.9.16"
  }
 },
 "nbformat": 4,
 "nbformat_minor": 5
}
