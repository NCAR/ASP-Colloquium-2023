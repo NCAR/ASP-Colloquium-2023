{
 "cells": [
  {
   "cell_type": "markdown",
   "id": "ba8848e6-5bb9-41f4-ac14-6a4f40d64aad",
   "metadata": {
    "tags": []
   },
   "source": [
    "## [Weather Research and Forecasting Model (WRF)](https://www.mmm.ucar.edu/models/wrf)"
   ]
  },
  {
   "cell_type": "markdown",
   "id": "22b0e7a3-17ce-4d1a-8a7e-eb72ee3dfc05",
   "metadata": {
    "tags": []
   },
   "source": [
    "The aim of this notebook is to run WRF regional initialized simulations of two events that have specific boundary layer structures of interest\n",
    "\n",
    "### With these exercises we hope for you to achieve\n",
    "\n",
    "* An understanding of the workflow for a weather forecast model\n",
    "* The ability to perform basic sensitivity experiments\n",
    "* An understanding of how boundary layer evolution maybe impact forecast evolution \n",
    "* A baseline diagnosis of multiple WRF experiments"
   ]
  },
  {
   "cell_type": "markdown",
   "id": "2b5b2f0a-fe2b-47fa-97b6-1a6cb5337512",
   "metadata": {
    "tags": []
   },
   "source": [
    "```{note}\n",
    "To the greatest extent possible we will follow the [Weather Research and Forecasting Model (WRF)](https://www.mmm.ucar.edu/models/wrf) [users' guide](https://www2.mmm.ucar.edu/wrf/users/wrf_users_guide/build/html/index.html) for setting up, submitting, running and processing output from simulations.\n",
    "```"
   ]
  },
  {
   "cell_type": "markdown",
   "id": "3337eefa-05a2-4bc7-9ab1-f302de160a2f",
   "metadata": {},
   "source": [
    "### Description of Model Cases and Configurations\n",
    "While `WRF` is able to simulation weatehr events in a regional domain over much of the globe, we will limit our experiments, at least initially to 2 case studiesthat will hopefully illusttae teh role of boundary layer processes in the evolution of these events\n",
    "\n",
    "\n"
   ]
  },
  {
   "cell_type": "markdown",
   "id": "8e72048a-5ba2-4194-b54b-c60dea593630",
   "metadata": {
    "tags": []
   },
   "source": [
    "### Test Run of WRF Cases\n",
    "Please follow as closely as possible the test cases of the [WRF users' guide](https://www2.mmm.ucar.edu/wrf/users/), the [online tutorial](https://www2.mmm.ucar.edu/wrf/OnLineTutorial/index.php) and the [accompanying tutorial](https://www2.mmm.ucar.edu/wrf/OnLineTutorial/compilation_tutorial.php#STEP7) guide as closely as possible. Additionaly, there are number of great pre-recorded lectures from the WRF in-person tutorial [here](https://www.youtube.com/playlist?list=PLJ_1sjucSSZCTNBRM4D3BfEak-XT7TKJo). If you are unfamliar with WRF, of particular interest will be the [Introduction to WRF](https://www.youtube.com/watch?v=wzSu-343b-0&list=PLJ_1sjucSSZCTNBRM4D3BfEak-XT7TKJo&index=2&t=480s), [Running the WPS system](https://www.youtube.com/watch?v=fIbg5T-aUM4&list=PLJ_1sjucSSZCTNBRM4D3BfEak-XT7TKJo&index=4&pp=iAQB), [Running WRF](https://www.youtube.com/watch?v=yixvMF-g0nc&list=PLJ_1sjucSSZCTNBRM4D3BfEak-XT7TKJo&index=5&pp=iAQB) and importantly to [Boundary Layer Physics](https://www.youtube.com/watch?v=NPsotmEqTBw&list=PLJ_1sjucSSZCTNBRM4D3BfEak-XT7TKJo&index=15&t=183s) and [Surface Process](https://www.youtube.com/watch?v=NmjL6uxwOkQ) avalailable. \n",
    "\n",
    "\n",
    "\n",
    "\n",
    "\n",
    "\n",
    "Below is a condensed summary of the key steps\n",
    "\n",
    "\n",
    "1. Download the WRF model code [](https://github.com/wrf-model/WRF) and the WRF Pre-Processing System (WPS) code [](https://github.com/wrf-model/WRF/WPS) \n",
    "``` \n",
    "cd /glade/work/$USER\n",
    "git clone https://github.com/wrf-model/WRF\n",
    "git clone https://github.com/wrf-model/WPS\n",
    "```\n",
    "We will return to teh WPS code later.\n",
    "\n",
    "\n",
    "2. Change to (checkout) the current version (4.5) release branch\n",
    "```\n",
    "cd WRF\n",
    "git checkout release-v4.5.1\n",
    "```\n",
    "This now stages the code we need to use\n",
    "\n",
    "\n",
    "3. Configure WRF\n",
    "```\n",
    "./configure\n",
    "```\n",
    "You will be presented with options, so make the following choices.\n",
    "* Choose option **13** for serial generic intel\n",
    "* Then, choose option **1** for basic compile \n",
    "This then generates the `configure.wrf1` file if succesfull with the following end message\n",
    "\n",
    "```\n",
    "*****************************************************************************\n",
    "This build of WRF will use NETCDF4 with HDF5 compression\n",
    "*****************************************************************************\n",
    "```\n",
    "4. Compile WPS\n",
    "Next compile from the right *real* case\n",
    "```\n",
    "./compile case_name >& log.compile\n",
    "```\n",
    "Choose a em_real e.g. *WRF_case00*\n",
    "\n",
    "```{warning}\n",
    "This compile can take up to 30 minutes so feel free to move onto some of the other project tasks in the mean time\n",
    "```\n",
    "\n",
    "4. Check build\n",
    "When complete do a build check by viewing the end of the compile log file `log.compile`\n",
    "```\n",
    "tail compile.log\n",
    "```\n",
    "\n",
    "If the code compiled correctly near the end you should see\n",
    "```\n",
    "--->                  Executables successfully built                  <---\n",
    "```\n",
    "\n",
    "5. Code and executable check\n",
    "Once the compilation completes, to check whether it was successful, you need to look for executables in the `WRF/main` directory:\n",
    "```\n",
    "ls -ls main/*.exe\n",
    "```\n",
    "\n",
    "6. WPS code configure - more detailed description [here](https://www2.mmm.ucar.edu/wrf/users/docs/user_guide_v4/v4.4/users_guide_chap3.html))\n",
    "Go to teh WPS code based and select the right code *branch*\n",
    "```\n",
    "cd /glade/work/$USER/WPS\n",
    "git checkout release-v4.5\n",
    "```\n",
    "\n",
    "7. Configure WPS\n",
    "As for WRF configure WPS ready for compilation\n",
    "```\n",
    "./configure\n",
    "```\n",
    "You will be presented with options, so make the following choices.\n",
    "* Choose **17** for serial compile on intel\n",
    "You should see a `configure.wps` file when this completes\n",
    "\n",
    "8. Compile WPS\n",
    "```\n",
    "./compile >& compile.log\n",
    "```\n",
    "This should take much less take than WPS (a few minutes)\n",
    "\n",
    "If your compilation was successful, you should see these executables created (make sure they are not of size zero):\\\n",
    "```\n",
    "geogrid.exe, ungrib.exe, metgrid.exe\n",
    "```\n",
    "If they are zero size type the following to see if there were errors output\n",
    "```\n",
    "grep -i err compile.log`\n",
    "```\n",
    "\n",
    "This should have completed your setup. To summarize this is the prestaging of code required for running WRF in the next step. It should not need to be repeated from now on, unless code is chnaged:\n",
    "![](images/WRF_WPS_flow.png)\n",
    "\n",
    "\n",
    "```{admonition} Summary WRF/WPS Workflow\n",
    "**WPS**\\\n",
    "`geogrid.exe` -  creates terrestrial data (static).\\\n",
    "`ungrib.exe` -  unpacks GRIB meteorological data and packs it into an intermediate file format.\\\n",
    "`metgrid.exe` - interpolates the meteorological data horizontally onto your model domain (WRF input)\\\n",
    "**WRF**\\\n",
    "`real.exe` - vertically interpolates the data onto the model coordinates.\\\n",
    "`wrf.exe` - generates the model forecast.\n",
    "```\n",
    "\n",
    "**Now move on to running the [WRF control simulation](exercises_wrf_test)**\n",
    "\n"
   ]
  }
 ],
 "metadata": {
  "kernelspec": {
   "display_name": "jbooks",
   "language": "python",
   "name": "jbooks"
  },
  "language_info": {
   "codemirror_mode": {
    "name": "ipython",
    "version": 3
   },
   "file_extension": ".py",
   "mimetype": "text/x-python",
   "name": "python",
   "nbconvert_exporter": "python",
   "pygments_lexer": "ipython3",
   "version": "3.9.16"
  }
 },
 "nbformat": 4,
 "nbformat_minor": 5
}
