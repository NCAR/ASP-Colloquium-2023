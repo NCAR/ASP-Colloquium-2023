{
 "cells": [
  {
   "cell_type": "markdown",
   "id": "bb3b77b8-aee2-4b9f-ad3e-4b249ba959c3",
   "metadata": {
    "tags": []
   },
   "source": [
    "# Computing Environments\n",
    "\n",
    "Below are details on how to manage your computing environments to best run model simulations and diagnose outputs during the colloquium project time. Specifically, this will include steps for setting up your local (laptop, macbook) environment and running the CLASS simple boundary layer and chemistry model, as well as running the large scale models of WRF and CESM on CISL supercomputer Cheyenne."
   ]
  },
  {
   "cell_type": "markdown",
   "id": "335d5f18-4240-4701-bd27-e080376b5018",
   "metadata": {
    "tags": []
   },
   "source": [
    " ![](images/computing_envs.png)"
   ]
  },
  {
   "cell_type": "markdown",
   "id": "fb16d30b-4757-4ca9-afdf-bea3ef862c73",
   "metadata": {
    "tags": []
   },
   "source": [
    "## General Requirements\n",
    "The key components of the project work will involve UNIX based workflows through command line operations. If you are unfamiliar with UNIX commands there are many examples of the most basic commands, such as [here](https://mally.stanford.edu/~sr/computing/basic-unix.html) and [here](https://www.math.utah.edu/lab/unix/unix-commands.html). This can be part of a Terminal based workflow or a [jupyterhub](https://jupyter.org/hub) based workflow. Details of the different approaches for your Mac or Windows laptop are given below.\n",
    "\n",
    "```{note}\n",
    "We will be using the `UCAR visitor wireless` available throughout the Mesa Lab. A one time registration will be valid during the the colloquium period.\n",
    "```\n",
    "\n",
    "\n",
    "## Establishing Your Local Computing Environment\n",
    "\n",
    "Hopefully each student has a laptop available, that they are familiar with, and has a widely available web browser (Chrome, Firefox, Safari etc.) installed and has including the most recent updates. Given the standardized nature of the jupyterhub web based browser we recommend that students use the jupyterhub server for capability for most activity for your colloquium projects. jupyterhub allows the user to perform command line tasks, file editing, python-based diagnsotic (through python `.py code` or jupyter notebooks `.ipynb code`). \n",
    "\n"
   ]
  },
  {
   "cell_type": "markdown",
   "id": "8f0f4b3d-f062-4dda-b68a-745e636b8a8e",
   "metadata": {
    "tags": []
   },
   "source": [
    "### [Jupyterhub](https://jupyter.org/hub)\n",
    "If you do not have `jupyterhub` installed on your laptop, use the `conda` mechanism to install the relevant packages. If you do not already have the conda package installed go to the [conda download page](https://docs.conda.io/en/latest/miniconda.html) and follow the installation instructions. \n",
    "\n",
    "This will place minicoda in your `$HOME` directory and all conda package installation will be located in\n",
    "`/users/$USER/miniconda3/bin` on a mac\n",
    "\n",
    "To make conda commands easy you may want to put the following search path to your`.zshrc` file in \n",
    "```\n",
    "cd $HOME\n",
    "export PATH=\"/Users/$USER/miniconda3/bin:$PATH\"\n",
    "```\n",
    "\n",
    "Then use conda to [install jupyterhub](https://jupyterlab.readthedocs.io/en/stable/getting_started/installation.html)\n",
    "```\n",
    "conda install -c conda-forge jupyterlab\n",
    "```\n",
    "Then run jupyter-lab in a terminal window\n",
    "\n",
    "```\n",
    "jupyter-lab\n",
    "```\n",
    "\n",
    "The jupyter-lab server should appear as a tab in the closest open browser window or as new browser window.\n",
    "\n",
    "\n",
    "\n",
    "\n",
    "\n",
    "### Terminal\n",
    "An alternative approach to `conda` for command line operations and communication to Cheyenne is to use a terminal setup directly and use ssh to connect to cheyenne (this will require DUO login)\n",
    "\n",
    "```\n",
    "ssh –XY [$USER]@cheyenne.ucar.edu\n",
    "\n",
    "```\n",
    "\n",
    "For transfers from `cheyenne` you can also `sftp` protocals for a single file or wildcard based copy\n",
    "```\n",
    "sftp [$USER]@cheyenne.ucar.edu:/glade/work/$USER/ASP2023/file_to_copy .\n",
    "sftp '[$USER]@cheyenne.ucar.edu:/glade/work/$USER/ASP2023/files_to_copy*' .\n",
    "\n",
    "```\n",
    "\n",
    "\n",
    "Useful software useful for projects would a text/file editor e.g., [`emacs`](https://www.gnu.org/software/emacs/) the netcdf file operators [`nco`](https://nco.sourceforge.net/), a simple netcdf viewer either [`ncview`](https://cirrus.ucsd.edu/ncview/) or [`panoply`](https://www.giss.nasa.gov/tools/panoply/) and [`ncl`](https://www.ncl.ucar.edu/) an establshed analysis software for some simple plots "
   ]
  },
  {
   "cell_type": "markdown",
   "id": "32c85751-1e57-44c6-af8b-6cb7f7c75ffd",
   "metadata": {
    "tags": []
   },
   "source": [
    "## Establishing Your Supercomputing Environment"
   ]
  },
  {
   "cell_type": "markdown",
   "id": "8624bbdf-a59d-468e-8b16-471ccf644647",
   "metadata": {},
   "source": [
    "### Login Credentials\n",
    "Each time you use the `jupyterhub` server or you choose to connect directly to `cheyenne`, or you are transfering files from cheyenne to your laptop, you will need to use your login credentials provided by CISL. These should have already been provdied to you. [Follow these steps](https://arc.ucar.edu/knowledge_base/70549637) to familiarize yourself with the steps, including authentication through the [`DUO mobile`](duo.com) app You can forgo the need to enter credentials each time by following the steps [here](https://arc.ucar.edu/knowledge_base/72581423), but this is not required. The package is available for mac, windows and linux. For the colloquium only the minicaonda install is required."
   ]
  },
  {
   "cell_type": "markdown",
   "id": "9fcd3194-364a-45b3-b649-98726bf42d94",
   "metadata": {
    "tags": []
   },
   "source": [
    "### Software setup\n",
    "We will be running the `WRF` and `CESM` simulations on the NCAR supercompter `cheyenne`. The preferred way to access cheyenne is through jupyterlab on the [NCAR jupyterhub server](https://jupyterhub.hpc.ucar.edu/)"
   ]
  },
  {
   "cell_type": "markdown",
   "id": "960b1f7d-c039-4c9b-8f8f-3b0a428d9fa1",
   "metadata": {
    "tags": []
   },
   "source": [
    "Follow these steps\n",
    "* Go to [jupyterhub.hpc.ucar.edu](https://jupyterhub.hpc.ucar.edu/)\n",
    "* Select **production**\n",
    "* click on **start** if you are returning to a session \n",
    "* Click on **cheyenne login node** if you are starting a new session\n",
    "* Your server will take a few seconds to set up\n"
   ]
  },
  {
   "cell_type": "markdown",
   "id": "dc35785a-1fa2-42df-8a6e-3da624d574a7",
   "metadata": {},
   "source": [
    "```{tip}\n",
    "For easier navigation around your `cheyenne` workspace in jupyterlab set up *symbolic links* to your work space (model cases direcories) and scratch space (model output directories). \n",
    "Unix commands for your home directory\\\n",
    "```cd $HOME```\\\n",
    "```ln -s /glade/work/$USER/work/ASP2023 work```\\\n",
    "```ln -s /glade/scratch/$USER/ASP2023 scratch```\n",
    "```\n"
   ]
  },
  {
   "cell_type": "markdown",
   "id": "a5c55171-77a0-4b71-b7cc-e43be9d2b4c6",
   "metadata": {},
   "source": [
    "For some code and data we will be using `git` and `github` - please make sure it is available and if not download using conda\n",
    "```\n",
    "conda install git\n",
    "```\n",
    "Generally the syntax will be\n",
    "```\n",
    "git clone www.github.com/repo-name local-dir\n",
    "```\n",
    "\n",
    "Other software that may required for sessions are a text/file editor e.g., [`emacs`](https://www.gnu.org/software/emacs/) the netcdf file operators [`nco`](https://nco.sourceforge.net/), a simple netcdf viewer [`ncview`](https://cirrus.ucsd.edu/ncview/) and [`ncl`](https://www.ncl.ucar.edu/) an establshed analysis software for some simple plots \n",
    "\n",
    "```\n",
    "module load emacs\n",
    "module load nco\n",
    "module load ncview\n",
    "module load ncl\n",
    "\n"
   ]
  }
 ],
 "metadata": {
  "kernelspec": {
   "display_name": "jbooks",
   "language": "python",
   "name": "jbooks"
  },
  "language_info": {
   "codemirror_mode": {
    "name": "ipython",
    "version": 3
   },
   "file_extension": ".py",
   "mimetype": "text/x-python",
   "name": "python",
   "nbconvert_exporter": "python",
   "pygments_lexer": "ipython3",
   "version": "3.9.16"
  }
 },
 "nbformat": 4,
 "nbformat_minor": 5
}
