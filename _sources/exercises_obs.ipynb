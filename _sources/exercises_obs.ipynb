{
 "cells": [
  {
   "cell_type": "markdown",
   "id": "85459557-3b52-4b1c-8313-97ffdf59a5bd",
   "metadata": {},
   "source": [
    "# Observation Exercises\n",
    "\n",
    "Choose from four diffent aspects of the observed boundary layer\n",
    "Move into your ASP2023 work directory\n",
    "```\n",
    "cd /glade/work/rneale/ASP2023/obs/\n",
    "```\n",
    "\n",
    "### Notebooks (coming soon)\n",
    "- Soundings ([notebooks](/notebooks/plot_soundings.ipynb))\n",
    "- Scaling parameters ([notebook](notebooks/scalingparameters.ipynb))\n",
    "- Turbulence ([notebook](notebooks/TKE_stability.ipynb))\n",
    "- Convective boundary layers (notebook[](notebooks/CBL.ipynb))\n",
    "\n",
    "\n",
    "<!---\n",
    "-2009 Steve\n",
    "-ISFS tower facility\n",
    "-Surface energy balance\n",
    "-PBL heights (lidar sonar radisondes).\n",
    "-Wednes day 26th: PBL facilities, flux towers (could take a break)\n",
    "\n",
    "## Steve+Jessic meeting ##\n",
    "-Created one dataset\n",
    "--6-level profile\n",
    "--What do you have to do to go from a scatter plot \n",
    "--Surface energy balance: Better if you add water storage sites\n",
    "--\n",
    "--\n",
    "\n",
    "--M2HATS field campaign: Hooter "
   ]
  },
  {
   "cell_type": "markdown",
   "id": "700b1145-3080-4792-adcc-19ab9db08baa",
   "metadata": {},
   "source": [
    "\n",
    "Open notebooks and make a copy in your own obs directory\n",
    "\n",
    "Build your own asp2023 conda environment as detailed [here](diagnostics)\n",
    "\n",
    "Then you should be goo to go to investigate these boundary layer tutorials!"
   ]
  }
 ],
 "metadata": {
  "kernelspec": {
   "display_name": "",
   "name": ""
  },
  "language_info": {
   "name": ""
  }
 },
 "nbformat": 4,
 "nbformat_minor": 5
}
