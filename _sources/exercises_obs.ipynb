{
 "cells": [
  {
   "cell_type": "markdown",
   "id": "85459557-3b52-4b1c-8313-97ffdf59a5bd",
   "metadata": {},
   "source": [
    "# Observation Exercises\n",
    "\n",
    "Please work through the following tutorial exercises provide by [Julie Lunquist] (University of Colorado)(mailto:julie.lundquist@colorado.edu). \n",
    "\n",
    "Choose from different analyses of the observed boundary layer\n",
    "This should be done in your `jupyterhub` on cheyenne\n",
    "Move into your ASP2023 work directory an make a `obs` directory\n",
    "```\n",
    "cd /glade/work/$USER/\n",
    "mkdir obs\n",
    "```\n",
    "\n",
    "Change to the observation root directory\n",
    "```\n",
    "cd /glade/work/rneale/ASP2023/obs/\n",
    "```\n",
    "\n",
    "### Notebooks (Copy your `obs` directory and open in jupyterhub) \n",
    "\n",
    "- Basic Soundings (priority)<br/>\n",
    "``` /glade/work/rneale/ASP2023/obs/02_plot_soundings/plot_soundings.ipynb```\n",
    "- Boundary Layer Scaling <br/>\n",
    "```/glade/work/rneale/ASP2023/obs/04_bl_scaling/mean_tendencies.ipynb (fixing problem with this)```<br/>\n",
    "```/glade/work/rneale/ASP2023/obs/04_bl_scaling/mean_tendencies2.ipynb```\n",
    "\n",
    "- Scaling parameters <br/>\n",
    "```/glade/work/rneale/ASP2023/obs/05_scaling_param/scalingparameters.ipynb```\n",
    "\n",
    "- Turbulence <br/>\n",
    "```/glade/work/rneale/ASP2023/obs/06_turbulence/TKE_stability.ipynb```\n",
    "\n",
    "- Convective Boundary Layers (priority) <br/>\n",
    "```/glade/work/rneale/ASP2023/obs/12_CBL/CBL.ipynb ```\n",
    "\n",
    "These notebooks should run 'as is'. Follow the directions and think about the problems that are being diagnosed. In particular think of the different regimes revealed by the different data, the sensitivity to using differnt soundings, whether they follow thery well, and how might you compare to a simple model (CLASS) or large-scale models (WRF, CESM).\n",
    "\n",
    "\n"
   ]
  },
  {
   "cell_type": "markdown",
   "id": "700b1145-3080-4792-adcc-19ab9db08baa",
   "metadata": {},
   "source": [
    "\n",
    "Open notebooks and make a copy in your own obs directory\n",
    "```{note}\n",
    "If you build (or rebuild) your own asp2023 conda environment as detailed [here](diagnostics) all the notebooks chould work.\n",
    "```\n",
    "\n",
    "Then you should be goo to go to investigate these boundary layer tutorials!"
   ]
  },
  {
   "cell_type": "markdown",
   "id": "e0cdab32-f476-4ac5-8c1b-ac5898f33dd1",
   "metadata": {},
   "source": [
    "# Instrument Data\n",
    "\n",
    "There are also instrument based data from PERDIGAO and ROLAMPAGO campaigns (courtesy of Steve Oncley, NCAR)\n",
    "\n",
    "Python scripts and netcdf instrument data are available here - copy to your work directory\n",
    "\n",
    "```\n",
    "/glade/work/rneale/ASP2023/\n",
    "```\n",
    "\n",
    "The python scripts can be run in a terminal window \n",
    "\n",
    "```\n",
    "python script.py\n",
    "```\n",
    "It should produce `.png` files to view in `jupyterhub`"
   ]
  }
 ],
 "metadata": {
  "kernelspec": {
   "display_name": "jbooks",
   "language": "python",
   "name": "jbooks"
  },
  "language_info": {
   "codemirror_mode": {
    "name": "ipython",
    "version": 3
   },
   "file_extension": ".py",
   "mimetype": "text/x-python",
   "name": "python",
   "nbconvert_exporter": "python",
   "pygments_lexer": "ipython3",
   "version": "3.9.16"
  }
 },
 "nbformat": 4,
 "nbformat_minor": 5
}
