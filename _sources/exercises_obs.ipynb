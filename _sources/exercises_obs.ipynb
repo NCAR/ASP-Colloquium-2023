{
 "cells": [
  {
   "cell_type": "markdown",
   "id": "85459557-3b52-4b1c-8313-97ffdf59a5bd",
   "metadata": {},
   "source": [
    "# Observation Exercises\n",
    "\n",
    "Please work through the following tutorial exercises provide by [Julie Lunquist](mailto:julie.lundquist@colorado.edu). \n",
    "\n",
    "Choose from different analyses of the observed boundary layer\n",
    "This should be done in your `jupyterhub` on cheyenne\n",
    "Move into your ASP2023 work directory an make a `obs` directory\n",
    "```\n",
    "cd /glade/work/$USER/\n",
    "mkdir obs\n",
    "```\n",
    "\n",
    "Change to the observation root directory\n",
    "```\n",
    "cd /glade/work/rneale/ASP2023/obs/\n",
    "```\n",
    "\n",
    "### Notebooks (Copy your `obs` directory and open in jupyterhub) \n",
    "\n",
    "- Basic Soundings (priority)<br/>\n",
    "``` /glade/work/rneale/ASP2023/obs/02_plot_soundings/plot_soundings.ipynb```\n",
    "- Boundary Layer Scaling <br/>\n",
    "```/glade/work/rneale/ASP2023/obs/04_bl_scaling/mean_tendencies.ipynb (fixing problem with this)```\n",
    "```/glade/work/rneale/ASP2023/obs/04_bl_scaling/mean_tendencies2.ipynb```\n",
    "\n",
    "- Scaling parameters <br/>\n",
    "```/glade/work/rneale/ASP2023/obs/05_scaling_param/scalingparameters.ipynb```\n",
    "\n",
    "- Turbulence <br/>\n",
    "```/glade/work/rneale/ASP2023/obs/06_turbulence/TKE_stability.ipynb```\n",
    "\n",
    "- Convective Boundary Layers (priority) <br/>\n",
    "```/glade/work/rneale/ASP2023/obs/12_CBL/CBL.ipynb ```\n",
    "\n",
    "These notebooks should run 'as is'. Follow the directions and think about the problems that are being diagnosed. In particular think of the different regimes revealed by the different data, the sensitivity to using differnt soundings, whether they follow thery well, and how might you compare to a simple model (CLASS) or large-scale models (WRF, CESM).\n",
    "\n",
    "\n",
    "<!---\n",
    "-2009 Steve\n",
    "-ISFS tower facility\n",
    "-Surface energy balance\n",
    "-PBL heights (lidar sonar radisondes).\n",
    "-Wednes day 26th: PBL facilities, flux towers (could take a break)\n",
    "\n",
    "## Steve+Jessic meeting ##\n",
    "-Created one dataset\n",
    "--6-level profile\n",
    "--What do you have to do to go from a scatter plot \n",
    "--Surface energy balance: Better if you add water storage sites\n",
    "--\n",
    "--\n",
    "\n",
    "--M2HATS field campaign: Hooter "
   ]
  },
  {
   "cell_type": "markdown",
   "id": "700b1145-3080-4792-adcc-19ab9db08baa",
   "metadata": {},
   "source": [
    "\n",
    "Open notebooks and make a copy in your own obs directory\n",
    "```{note}\n",
    "If you build (or rebuild) your own asp2023 conda environment as detailed [here](diagnostics) all the notebooks chould work.\n",
    "```\n",
    "\n",
    "Then you should be goo to go to investigate these boundary layer tutorials!"
   ]
  },
  {
   "cell_type": "markdown",
   "id": "e0cdab32-f476-4ac5-8c1b-ac5898f33dd1",
   "metadata": {},
   "source": [
    "# Instrument Data\n",
    "\n",
    "There are also instrument based data in this PERDIGAO\n",
    "```\n",
    "/glade/work/rneale/ASP2023/\n",
    "```"
   ]
  }
 ],
 "metadata": {
  "kernelspec": {
   "display_name": "jbooks",
   "language": "python",
   "name": "jbooks"
  },
  "language_info": {
   "codemirror_mode": {
    "name": "ipython",
    "version": 3
   },
   "file_extension": ".py",
   "mimetype": "text/x-python",
   "name": "python",
   "nbconvert_exporter": "python",
   "pygments_lexer": "ipython3",
   "version": "3.9.16"
  }
 },
 "nbformat": 4,
 "nbformat_minor": 5
}
