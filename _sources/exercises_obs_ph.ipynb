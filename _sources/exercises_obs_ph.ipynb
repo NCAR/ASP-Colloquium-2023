{
 "cells": [
  {
   "cell_type": "markdown",
   "id": "85459557-3b52-4b1c-8313-97ffdf59a5bd",
   "metadata": {},
   "source": [
    "# Observation Exercises\n",
    "\n",
    "Observations-bases exercises will appear here soon!\n"
   ]
  }
 ],
 "metadata": {
  "kernelspec": {
   "display_name": "jbooks",
   "language": "python",
   "name": "jbooks"
  },
  "language_info": {
   "codemirror_mode": {
    "name": "ipython",
    "version": 3
   },
   "file_extension": ".py",
   "mimetype": "text/x-python",
   "name": "python",
   "nbconvert_exporter": "python",
   "pygments_lexer": "ipython3",
   "version": "3.9.16"
  }
 },
 "nbformat": 4,
 "nbformat_minor": 5
}
