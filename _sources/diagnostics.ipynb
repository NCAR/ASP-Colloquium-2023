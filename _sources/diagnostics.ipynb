{
 "cells": [
  {
   "cell_type": "markdown",
   "id": "ccd79a65-908e-420b-8851-66fca5edf291",
   "metadata": {
    "tags": []
   },
   "source": [
    "# Diagnostics \n",
    "\n",
    "### Setting up Conda Environments and Jupyter Notebooks"
   ]
  },
  {
   "cell_type": "markdown",
   "id": "796a1314-8f27-42e8-af53-9d2b29d0f869",
   "metadata": {},
   "source": [
    "To create your conda environment in a terminal load conda module\n",
    "```\n",
    "module load conda\n",
    "```\n",
    "Now create your own conda environment from a [`pre-existing one`](https://conda.io/projects/conda/en/latest/user-guide/tasks/manage-environments.html#creating-an-environment-from-an-environment-yml-file)\n"
   ]
  },
  {
   "cell_type": "markdown",
   "id": "a123b321-1c55-467d-875d-b29eca448815",
   "metadata": {},
   "source": [
    "Take a look at this file and examine the included `conda` packages\n",
    "```\n",
    "less /glade/work/rneale/ASP2023/diags/asp2023_env.yml\n",
    "```"
   ]
  },
  {
   "cell_type": "markdown",
   "id": "eb3228a3-2153-4be0-8f6f-85a3ba6a1761",
   "metadata": {},
   "source": [
    "Then create your own clone\n",
    "```\n",
    "conda env create -f /glade/work/rneale/ASP2023/diags/asp2023_env.yml\n",
    "```\n",
    "Now load or `activate` this environment and list the loaded packages\n",
    "```\n",
    "conda activate asp2023\n",
    "conda list\n",
    "```\n",
    "\n",
    "Set up so jupyterhub can `see` the `asp2023` conda environment as a `kernel` (say '*Y*' to any prompts - and then lots of packages will load).\n",
    "```\n",
    "conda install ipykernel\n",
    "ipython kernel install --user --name=asp2023\n",
    "```\n",
    "\n",
    "If we make changes to our `asp2023` environment, run this command each time to update.\n",
    "```\n",
    "conda env update --prefix ./env --file /glade/work/rneale/ASP2023/diags/asp2023_env.yml --prune\n",
    "```"
   ]
  },
  {
   "cell_type": "markdown",
   "id": "0a2ac689-b987-4faf-957e-406b88190c08",
   "metadata": {},
   "source": [
    "You can also create a `.yaml` file that lists all the packages in your conda environment"
   ]
  },
  {
   "cell_type": "markdown",
   "id": "75afd954-2938-4392-bc47-8576553d4b90",
   "metadata": {},
   "source": [
    "```\n",
    "conda activate\n",
    "conda env create -f asp2023_env.yml\n",
    "```"
   ]
  },
  {
   "cell_type": "markdown",
   "id": "d23d00a8-83ba-49f0-b608-df32ab67dc67",
   "metadata": {},
   "source": [
    "### Using Jupyter Notebooks"
   ]
  },
  {
   "cell_type": "markdown",
   "id": "f10b9360-2d3f-4c46-8316-fc597bd2f2a3",
   "metadata": {},
   "source": [
    "There are a limited number of notebooks available on cheyenne here\n",
    "`ls -l /glade/work/rneale/ASP2023/diags`\n",
    "\n",
    "You can compare 2 CESM runs \n",
    "```\n",
    "CESM_2case_comparison.ipynb\n",
    "```\n",
    "\n",
    "You can plot a single level WRF field \n",
    "```\n",
    "wrf_plot_geocat.ipynb\n",
    "```\n",
    "\n",
    "For `CESM` analysis the CESM tutorial has some [simple analysis notebooks](https://ncar.github.io/CESM-Tutorial/notebooks/diagnostics/cam/basics_cam.html)\n",
    "\n",
    "For `WRF` there is an array of python-based routines to analysis output [here](https://wrf-python.readthedocs.io/en/latest/index.html)\n",
    "\n",
    "This includes a simple plotting of a `skewT` plot [here](https://pratiman-91.github.io/2021/08/05/SkewT-Plots-from-WRF-outputs.html) \n",
    "\n",
    "For a broader more foundational look at geosciences specific python and jupyter notebooks take a look at [`Project Pythia`](https://foundations.projectpythia.org/foundations/getting-started-jupyter.html)\n",
    "\n",
    "\n",
    "```\n",
    "\n"
   ]
  }
 ],
 "metadata": {
  "kernelspec": {
   "display_name": "jbooks",
   "language": "python",
   "name": "jbooks"
  },
  "language_info": {
   "codemirror_mode": {
    "name": "ipython",
    "version": 3
   },
   "file_extension": ".py",
   "mimetype": "text/x-python",
   "name": "python",
   "nbconvert_exporter": "python",
   "pygments_lexer": "ipython3",
   "version": "3.9.16"
  }
 },
 "nbformat": 4,
 "nbformat_minor": 5
}
