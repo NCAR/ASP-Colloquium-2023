{
 "cells": [
  {
   "cell_type": "markdown",
   "id": "f60a4e2f-3ca6-4196-9105-a3b6d6d8c0bf",
   "metadata": {},
   "source": [
    "## [Community Earth System Model](https://www.cesm.ucar.edu/)"
   ]
  },
  {
   "cell_type": "markdown",
   "id": "e6ed32ea-ea44-4e69-a5b2-f0370450c4ef",
   "metadata": {
    "tags": []
   },
   "source": [
    "The aim of this notebook is guide the creation, simulation and analyisis of CESM global, multi-annual simulations.\n",
    "\n",
    "### With these exercises we hope for you to achieve ###\n",
    "* An understanding of the workflow for a climate model\n",
    "* The ability to perform basic sensitivity experiments\n",
    "* An understanding of how boundary layers vary in different climate regimes and how they may be sensitive to different boundary layer scheme formulations\n",
    "* A baseline diagnosis of multiple CESM experiments"
   ]
  },
  {
   "cell_type": "markdown",
   "id": "6e6c3617-19e0-4c80-913e-d93a99b5d9b8",
   "metadata": {
    "tags": []
   },
   "source": [
    "```{note}\n",
    "To the greatest extent possible we will follow the [CESM tutorial workflows](https://github.com/NCAR/CESM-Tutorial) for setting up, submitting, running and processing output from simulations.\n",
    "```"
   ]
  },
  {
   "cell_type": "markdown",
   "id": "56ed605e-c3f2-4488-93ce-9fcc09cce636",
   "metadata": {
    "tags": []
   },
   "source": [
    "### Description of Model Cases and Configurations\n",
    "\n",
    "The experiments we will perform with CESM will comprise an atmosphere model, land model and simplified (thermodynamic-only) sea-ice model over a global domain. An ocean model will not be used, instead being replace by fix or prescribed values of Sea Surface Temperature (SSTs). We will use a relatively course horizontal resolution, nomilly 2 degress in both latitude and longitude. "
   ]
  },
  {
   "cell_type": "markdown",
   "id": "0198850f-239e-4fe7-bbf4-ee0c4cb32a2e",
   "metadata": {
    "tags": []
   },
   "source": [
    "### Test run of CESM cases\n",
    "\n",
    "Please follow the `basic` test cases from the CESM tutorial [here](https://ncar.github.io/CESM-Tutorial/notebooks/basics/exercises/first_B1850.html). These are a little different from what we wish to run: namely we will run F2000climo compsets: Atmopshere and land with fixed SST as described above. A summary of the steps with slight modification for our purposes follow.\n",
    "\n",
    "\n",
    "1. Setup my workspace\n",
    "\n",
    "```\n",
    "cd /glade/work/$USER/ASP2023\n",
    "mkdir cesm_cases\n",
    "mkdir cesm_code\n",
    "```\n",
    "\n",
    "2. Download CESM code base using `git` and checkout the required code branch\n",
    "\n",
    "```\n",
    "cd /glade/work/$USER/ASP2023/cesm_code\n",
    "git clone https://github.com/ESCOMP/CESM.git my_cesm_code\n",
    "cd my_cesm_code\n",
    "git checkout release-cesm2.1.4\n",
    "```\n",
    "\n",
    "3. Pull in external model code\n",
    "\n",
    "```\n",
    "./manage_externals/checkout_externals\n",
    "```\n",
    "\n",
    "4. Find the cesm scripts directory\n",
    "\n",
    "```\n",
    "cd cime/scripts\n",
    "```\n",
    "\n",
    "5. Create a new case (experiment) with all the baseline information you need for a run with prescribed SSTs and year 2000 climatology (`COMPSET=F2000climo`) at a relatively course resolution of 2 degrees (`RES=f19_f19`). Maybe `CASE='cesm_control'` \n",
    "Therefore:\n",
    "\n",
    "```\n",
    "./create_newcase --case /glade/work/$USER/ASP2023/cesm_cases/cesm_control --res f19_f19 --compset F2000climo --run-unsupported -Project XXX\n",
    "```\n",
    "```{note}\n",
    "The output will say the configuration is not supported, but it is fine for our use here.\n",
    "```\n"
   ]
  },
  {
   "cell_type": "markdown",
   "id": "f4c176a3-63f9-4fda-a16d-69d634fb1162",
   "metadata": {
    "tags": []
   },
   "source": [
    "Make sure you use the correct information for the CASE, RES, and COMPSET inputs.\n",
    "\n",
    "Did you set up the case?\n",
    "\n",
    "You can invoke case set up as follows:\n",
    "\n",
    "./case.setup\n",
    "How do I compile?\n",
    "\n",
    "You can compile with the command:\n",
    "\n",
    "qcmd -- ./case.build\n",
    "How do I check my job status?\n",
    "\n",
    "You can check job status using the command:\n",
    "\n",
    "qstat -u $USER"
   ]
  }
 ],
 "metadata": {
  "kernelspec": {
   "display_name": "jbooks",
   "language": "python",
   "name": "jbooks"
  },
  "language_info": {
   "codemirror_mode": {
    "name": "ipython",
    "version": 3
   },
   "file_extension": ".py",
   "mimetype": "text/x-python",
   "name": "python",
   "nbconvert_exporter": "python",
   "pygments_lexer": "ipython3",
   "version": "3.9.16"
  }
 },
 "nbformat": 4,
 "nbformat_minor": 5
}
