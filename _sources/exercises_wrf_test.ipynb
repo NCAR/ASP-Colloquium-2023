{
 "cells": [
  {
   "cell_type": "markdown",
   "id": "16cdd0cd-1115-4302-a77a-fc8bd1634d49",
   "metadata": {
    "tags": []
   },
   "source": [
    "## WRF Test Case Study: [Major Snowstorm December 16-17, 2020](https://www.weather.gov/aly/Snow17Dec20)"
   ]
  },
  {
   "cell_type": "markdown",
   "id": "e9b4d097-4935-4e2e-a567-f32cae9b881e",
   "metadata": {},
   "source": [
    "###  WPS: Model Domain Initialize\n",
    "Detailed workflow [here](https://www2.mmm.ucar.edu/wrf/users/docs/user_guide_v4/v4.4/users_guide_chap3.html) \\\n",
    "Summary workflow [here](https://www2.mmm.ucar.edu/wrf/OnLineTutorial/compilation_tutorial.php)\t"
   ]
  },
  {
   "cell_type": "markdown",
   "id": "f1899712-c2fb-47cb-8443-3b895f34fc3c",
   "metadata": {
    "tags": []
   },
   "source": [
    "### Generate grid information\n",
    "\n",
    "```{note}\n",
    "Everytime `edit` is used in a command it implies you will use your chosen editing method. This could be via 'jupyterhub or terminal-based editor such as `emacs`\n",
    "```\n",
    "\n",
    "In WPS directory. Edit namelist.wps \n",
    "```\n",
    "cd /glade/work/$USER/ASP2023/WPS\n",
    "edit utils/namelist.wps \n",
    "```\n",
    "\n",
    "Change the following lines only to the values shown (mostly getting rid of 2nd number and a `,` at end of each line)\n",
    "\n",
    "```\n",
    "max_dom = 1\n",
    "parent_id = 1, \n",
    "parent_grid_ratio = 1, \n",
    "i_parent_start = 1, \n",
    "j_parent_start = 1, \n",
    "e_we = 74, \n",
    "e_sn = 61, \n",
    "geog_data_res = 'default',\n",
    "```\n",
    "\n",
    "Plot domain grid (requires a simple [ncl](https://www.ncl.ucar.edu) command and a module load if not currently installed))\n",
    "\n",
    "```\n",
    "module load ncl\n",
    "ncl < util/plotgrids_new.ncl\n",
    "```\n",
    "\n",
    "View created image file `wps_show_dom.png` in jupyterhub \n",
    "\n",
    "Generate surface data for this domain (takes 1 minute)\n",
    "```\n",
    "./geogrid.exe\t\n",
    "```\n",
    "Successful if last line on screen is\n",
    "```\n",
    "!  Successful completion of geogrid.        !\n",
    "```\n",
    "\n",
    "\n",
    "\n",
    "\n",
    "\n",
    "\n"
   ]
  },
  {
   "cell_type": "markdown",
   "id": "8c38b34a-0f68-4e9d-9a2a-743317ff9911",
   "metadata": {},
   "source": [
    "Data should be in `geo_em.d01.nc` (check it exists)\n",
    "Browse data (should for the most part be obviously SE USA)  \n",
    "```\n",
    "ncview geo_em.d01.nc\n",
    "```\n",
    "Variable descriptions very limited. Try ncdump to look at the descriptions for each variable.\n",
    "```\n",
    "ncdump -h geo_em.d01.nc | less\n",
    "```\n",
    "\n",
    "\n"
   ]
  },
  {
   "cell_type": "markdown",
   "id": "7d5223ee-6c85-448e-85c7-f3483375ad4c",
   "metadata": {},
   "source": [
    "Make a data directory (./DATA)\n",
    "```\n",
    "mkdir ~/WRF/DATA \n",
    "```\n",
    "Grab domain datasets for this case study\n",
    "\n",
    "Raw grib files used to initialize WRF forecasts are used [here](https://rda.ucar.edu/datasets/ds084.1/)\n",
    "\n",
    "\n",
    "```\n",
    "cp /glade/p/cgd/asp2017/WRF/JAN00_AWIP.tar.gz ~/WRF/DATA\n",
    "```\n",
    "Unzip/untar\n",
    "```\n",
    "cd ~/WRF/DATA\n",
    "gzip -d JAN00_AWIP.tar.gz\n",
    "tar -xvf JAN00_AWIP.tar -C ~/WRF/DATA \n",
    "```\n",
    "Quick checking/listing (from ~/WRF/WPS directory) - Of initial variables\n",
    "```\n",
    "./util/g1print.exe ../DATA/JAN00/2000012412.AWIPSF\n",
    "```\n",
    "Data file linking \n",
    "```\n",
    "ln -sf ungrib/Variable_Tables/Vtable.AWIP Vtable\n",
    "./link_grib.csh ../DATA/JAN00/2000012\n",
    "```\n",
    "Edit namelist for dating info. \t\temacs namelist.wps\n",
    "```\n",
    "run_hours = 36\t\n",
    "start_date = '2000-01-24_12:00:00',   \n",
    "end_date = '2000-01-26_00:00:00',\n",
    "```"
   ]
  },
  {
   "cell_type": "markdown",
   "id": "c7d454d0-19ad-4ad0-a3aa-840520e764bc",
   "metadata": {},
   "source": [
    "### WRF: Running the model\n",
    "\n",
    "Change to WRF directory from WPS directory\n",
    "```\n",
    "cd ../WRF\n",
    "```\n",
    "Let’s run the case here\n",
    "```\n",
    "cd test/em_real\n",
    "```\n",
    "And similar to linking the files we generated with WPS do the following\n",
    "```\n",
    "ln -sf ../../../WPS/met_em.d01.2000-01* .\n",
    "```\n",
    "Look over namelist\n",
    "```\t\n",
    "emacs namelist.input \n",
    "```\n",
    "We are only using the first column of values as we only have a single domain and no nesting\n",
    "Extend end date of forecast out to **Jan 26 00Z**.\n",
    "And change the gravity wave drag option to gwd_opt=0 instead\t\n",
    "\n",
    "In preparation for sensitivity runs check out descriptions of namelist variables\n",
    "```\n",
    "more README.namelist\n",
    "```\n"
   ]
  },
  {
   "cell_type": "markdown",
   "id": "523f6470-0da9-4b0b-b19b-9456f7f3e61e",
   "metadata": {},
   "source": [
    "### Sensitivity Experiments\n"
   ]
  }
 ],
 "metadata": {
  "kernelspec": {
   "display_name": "jbooks",
   "language": "python",
   "name": "jbooks"
  },
  "language_info": {
   "codemirror_mode": {
    "name": "ipython",
    "version": 3
   },
   "file_extension": ".py",
   "mimetype": "text/x-python",
   "name": "python",
   "nbconvert_exporter": "python",
   "pygments_lexer": "ipython3",
   "version": "3.9.16"
  }
 },
 "nbformat": 4,
 "nbformat_minor": 5
}
