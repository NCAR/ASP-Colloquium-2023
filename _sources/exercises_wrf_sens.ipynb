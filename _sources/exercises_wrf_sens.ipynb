{
 "cells": [
  {
   "cell_type": "markdown",
   "id": "96ec3598-4915-4ba8-92dc-f50828788b8f",
   "metadata": {},
   "source": [
    "## WRF PBL Focused Sensitivtiy Experiments\n",
    "\n",
    "Now that we have a control run of the WRF case study either you should investigate the sensitivity of aspects of the boundary layer to the forumlation in the model. This could take the form of modifying parameters of the existing boundary layer, convection or surface flux parameterization. Or it could take the form of a change in the parameterization used entirely in the model. WRF has [multiple parameterizations](https://www2.mmm.ucar.edu/wrf/users/physics/phys_references.html) that can be used for the boundary layer, shallow convection, deep convection and surface fluxes - for the [test case](exercises_wrf_test) the CONUS suite is used, which is used in many applications of the US.\n",
    "\n",
    "You would need to edit the WRF namelist file in your case directory\n",
    "\n",
    "```\n",
    "edit /glade/work/$USER/ERF/test/em_real/namelist.input\n",
    "```\n",
    "\n",
    "\n",
    "\n",
    "```{note}\n",
    "There are many other configurations that are possible, not all of them will perform well for your case studiy. Choose a particular change (1 process at a time) based on the different formulation of the scheme you find most interesting and re-run your case studies as above.\n",
    "```\n",
    "\n",
    "\n",
    "\n",
    "# Introducing a chemistry component\n",
    "You can investigaet a WRF-chem case study from this [step by step guide](https://ruc.noaa.gov/wrf/wrf-chem/tutorialexercises.htm) to WRF-chem "
   ]
  }
 ],
 "metadata": {
  "kernelspec": {
   "display_name": "jbooks",
   "language": "python",
   "name": "jbooks"
  },
  "language_info": {
   "codemirror_mode": {
    "name": "ipython",
    "version": 3
   },
   "file_extension": ".py",
   "mimetype": "text/x-python",
   "name": "python",
   "nbconvert_exporter": "python",
   "pygments_lexer": "ipython3",
   "version": "3.9.16"
  }
 },
 "nbformat": 4,
 "nbformat_minor": 5
}
