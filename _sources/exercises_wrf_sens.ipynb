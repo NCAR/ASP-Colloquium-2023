{
 "cells": [
  {
   "cell_type": "markdown",
   "id": "96ec3598-4915-4ba8-92dc-f50828788b8f",
   "metadata": {},
   "source": [
    "## WRF PBL Focused Sensitivtiy Experiments\n",
    "\n",
    "Now that we have a control run of the WRF case study either you should invistigate the senistivity of aspects of the boundary layer to the forumation in the model. This could take the form of modifying parameters of the existing boundary layer, convection or surface flux parameterization. Or it could take the form of chnage the parameterization used entirely in the model. WRF has multiple parameterizations that can be used for the boundary layer, shallow convection, deep convection and surface fluxes. There are multiple configurations possible, not all of them will perform well for your case studies. Choose a particular change (1 process at a time) based on the different forumlation of the scheme you find most interesting and re-run your case studies as above."
   ]
  }
 ],
 "metadata": {
  "kernelspec": {
   "display_name": "jbooks",
   "language": "python",
   "name": "jbooks"
  },
  "language_info": {
   "codemirror_mode": {
    "name": "ipython",
    "version": 3
   },
   "file_extension": ".py",
   "mimetype": "text/x-python",
   "name": "python",
   "nbconvert_exporter": "python",
   "pygments_lexer": "ipython3",
   "version": "3.9.16"
  }
 },
 "nbformat": 4,
 "nbformat_minor": 5
}
