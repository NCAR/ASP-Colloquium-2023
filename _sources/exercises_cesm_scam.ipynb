{
 "cells": [
  {
   "cell_type": "markdown",
   "id": "0d0d494d-5421-4d51-8480-a985b2fd8a67",
   "metadata": {},
   "source": [
    "# CESM Single Column Output"
   ]
  },
  {
   "cell_type": "markdown",
   "id": "cb89d8ab-6718-4eef-bdc5-711cfd00d717",
   "metadata": {},
   "source": [
    "Another option for examining CESM is to analyze single column (grid-point) (SCAM) experiments over different regions and time of year\n",
    "1. **ARM95** Centered over the DOE Atmopsheric Radiation Measurement ([`ARM`](http://arm.gov)) facility during July/August 1995\n",
    "2. **ARM97** Centered over the DOE Atmopsheric Radiation Measurement ([`ARM`](http://arm.gov)) facility during June/July 1997\n",
    "3. **TOGAII** Centered over the West Pacific during part of the [`TOGA-COARE`](https://www.eol.ucar.edu/field_projects/toga-coare) campaign during December 1992/January 1993\n",
    "4. **GATEIII** Centered over the Tropical Atlantic during part of the [`GATE`](https://www.eol.ucar.edu/field_projects/gate) campaign during August/September 1974"
   ]
  },
  {
   "cell_type": "markdown",
   "id": "33828e5e-94ef-4de7-b479-e369ce831c41",
   "metadata": {},
   "source": [
    "Data from the CESM atmosphere model `CAM` and the land model `CLM` used in SCAM model can be found here \n",
    "`/glade/work/rneale/ASP2023/data/cesm_scam`"
   ]
  },
  {
   "cell_type": "markdown",
   "id": "32297b79-a309-41e3-8501-351361b5802a",
   "metadata": {},
   "source": [
    "These files contain a multi-day period of output at high frequency **(every 20 minutes)**. There is also a selection of vertical resolutions that have been used\n",
    "- 32 levels in (`000.L32.cam`) files\n",
    "- 48 levels in (`000.L48.cam`) files\n",
    "- 58 levels in (`000.cam`) files (GATE only has this one available)\n",
    "\n",
    "These vertical level grids are documented in the figure below. This analysis is right at the cutting edge for CAM development as we are in the middle of ransitioned from 32 levels (L32) to L58 levels (L58). Crucially L58 has an additional 10 levels in the PBL.  \n",
    "\n",
    "Use a simple look tool first `panoply` to look through and contrast the diurnal variability in the continental Summertime cases (`arm95, arm97`) with the oceanic Wintertime cases (`togaII, gateIII`) "
   ]
  },
  {
   "cell_type": "markdown",
   "id": "7a1ed243-d9e4-43f7-b11c-baffbdef7421",
   "metadata": {},
   "source": [
    "```{note}\n",
    "Try installing `panoply`([here](http://www.giss.nasa.gov/tools/panoply/)) locally on your laptop and move the small files above to your laptop to reduced `cheyenne` lateny\n",
    "```\n",
    "\n",
    "![](images/CAM67_vres.png)"
   ]
  },
  {
   "cell_type": "markdown",
   "id": "30b7c42d-9eca-405e-9faa-d593899dc0c0",
   "metadata": {
    "tags": []
   },
   "source": [
    "### Things to look for"
   ]
  },
  {
   "cell_type": "markdown",
   "id": "6af4b5d6-0a7d-4c66-8ec2-a134a1f694f5",
   "metadata": {},
   "source": [
    "- Diurnal variation differences over land and ocean (timing of precipitation; temperature maxima) \n",
    "- Different PBL depths and properties at different resolutions\n",
    "- Vertical variaitons of conserved quantities (theta, humidity)\n",
    "- Comparison with observed profiles and theory (CBL, CLASS)"
   ]
  }
 ],
 "metadata": {
  "kernelspec": {
   "display_name": "jbooks",
   "language": "python",
   "name": "jbooks"
  },
  "language_info": {
   "codemirror_mode": {
    "name": "ipython",
    "version": 3
   },
   "file_extension": ".py",
   "mimetype": "text/x-python",
   "name": "python",
   "nbconvert_exporter": "python",
   "pygments_lexer": "ipython3",
   "version": "3.9.16"
  }
 },
 "nbformat": 4,
 "nbformat_minor": 5
}
