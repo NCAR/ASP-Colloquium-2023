{
 "cells": [
  {
   "cell_type": "markdown",
   "id": "49642917-1d56-415a-8284-2e0b529f2cb9",
   "metadata": {
    "tags": []
   },
   "source": [
    "## [Chemistry Land-surface Atmosphere Soil Slab model (CLASS)](https://classmodel.github.io/) \n",
    "\n",
    "\n",
    "\n",
    "\n",
    "\n",
    "The [Chemistry Land-surface Atmosphere Soil Slab model (CLASS)](https://classmodel.github.io/) is an easy to use code base for examining the near-surface chemistry\n",
    "\n",
    "\n",
    "### With these exercises we hope for you to achieve\n",
    "* An understanding of the workflow for a simpler process model\n",
    "* The ability to perform basic sensitvitiy experiments\n",
    "* And understanding of how boundary layer processes affect chemistry and atmopsheric structure  \n",
    "* A baseline diagnosis of output from the CLASS model application\n",
    "\n",
    "\n",
    "### Setup\n",
    "1. Download the relevent zip/image executable file from [here](https://github.com/classmodel/modelgui/releases)\n",
    "```\n",
    "CLASS_MacOS_10.13_10.14_10.15.dmg\n",
    "Windows_scaling_fix.zip\n",
    "```\n",
    "```{warning}\n",
    "You likely will get the following malware warning with a mac donwload\n",
    "*“CLASS” cannot be opened because the developer cannot be verified.*\n",
    "This software is safe, to disable the warning open `secutiy and privacy` in `system preferences` and allow apps to be downloaded from app store and developers. You SHould now be able to download CLASS.\n",
    "```\n",
    "\n",
    "2. CLASS User Interface\n",
    "![](images/CLASS01.png)\n",
    "\n",
    "\n"
   ]
  },
  {
   "cell_type": "markdown",
   "id": "9144bb16-e2dd-4dd5-acba-abd25e465d3a",
   "metadata": {},
   "source": [
    "Joris Villa's presentation is [here](https://docs.google.com/presentation/d/1_Y8T2HDufyWxpha855L_V5quD-Ma5Y7r/edit#slide=id.p1)\n",
    "\n",
    "### Possible Exercises\n",
    "1. Compare CESM or WRF to the (probably) more accurate CLASS diurnal evolution"
   ]
  }
 ],
 "metadata": {
  "kernelspec": {
   "display_name": "jbooks",
   "language": "python",
   "name": "jbooks"
  },
  "language_info": {
   "codemirror_mode": {
    "name": "ipython",
    "version": 3
   },
   "file_extension": ".py",
   "mimetype": "text/x-python",
   "name": "python",
   "nbconvert_exporter": "python",
   "pygments_lexer": "ipython3",
   "version": "3.9.16"
  }
 },
 "nbformat": 4,
 "nbformat_minor": 5
}
